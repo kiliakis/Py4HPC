{
 "cells": [
  {
   "cell_type": "markdown",
   "metadata": {},
   "source": [
    "## Some more interesting Numba features not covered in the notebooks"
   ]
  },
  {
   "cell_type": "markdown",
   "metadata": {},
   "source": [
    "## Other jit flags:\n",
    "\n",
    "```python\n",
    "cache = True\n",
    "```\n",
    "To save the compiled function in the `__pycache__` directory and avoid having to recompile every time. Numba will detect code modifications and recompile. \n",
    "\n",
    "```python\n",
    "fastmath = True\n",
    "```\n",
    "Enables unsafe floating point operations (according to the IEEE-754 standard).\n",
    "\n"
   ]
  },
  {
   "cell_type": "markdown",
   "metadata": {},
   "source": [
    "Ahead of time compilation\n",
    "\n",
    "Numba mainly uses JIT compilation, but it supports also AOT compilation. \n",
    "The benefits are: \n",
    "1. No compilation overhead\n",
    "2. Code produced does not depend on Numba!\n",
    "\n",
    "Limitations:\n",
    "1. No support for ufuncs\n",
    "2. Explicit function signature. \n",
    "3. No overloading. \n",
    "4. Code produced less optimized than when using JIT. \n"
   ]
  },
  {
   "cell_type": "markdown",
   "metadata": {},
   "source": [
    "Stencil"
   ]
  },
  {
   "cell_type": "markdown",
   "metadata": {},
   "source": [
    "explicit parallelization"
   ]
  }
 ],
 "metadata": {
  "kernelspec": {
   "display_name": "Python 3.9.7 ('base')",
   "language": "python",
   "name": "python3"
  },
  "language_info": {
   "name": "python",
   "version": "3.9.7"
  },
  "orig_nbformat": 4,
  "vscode": {
   "interpreter": {
    "hash": "79ab8fd01a8cec42884b8b2a5d7fb4751c5402d97e9e61d151ed5c6a6352873c"
   }
  }
 },
 "nbformat": 4,
 "nbformat_minor": 2
}
