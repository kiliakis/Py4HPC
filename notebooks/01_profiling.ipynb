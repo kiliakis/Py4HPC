{
 "cells": [
  {
   "cell_type": "markdown",
   "metadata": {},
   "source": [
    "# Run time profiling in Python\n",
    "Profiling is essential in improving the performance. *You cannot optimize what you cannot observe.* \n",
    "\n",
    "Different tools to choose:\n",
    "1. `timeit`: Simple, the easiest to use in a notebook. \n",
    "2. `line_profiler`: Line-by-line execution time, supports notebooks and pyscripts. \n",
    "3. `cProfile`: The most detailed, supports notebooks and pyscripts, can be overwhelming in large projects. "
   ]
  },
  {
   "cell_type": "markdown",
   "metadata": {},
   "source": [
    "## Lets start with some code to profile\n"
   ]
  },
  {
   "cell_type": "code",
   "execution_count": null,
   "metadata": {},
   "outputs": [],
   "source": [
    "import numpy\n",
    "from time import sleep\n",
    "\n",
    "# To prepare a nice salad you need to cut the vegetables, cook them,\n",
    "# and finally add the secret sauce. \n",
    "\n",
    "def cut_vegetables(useless):\n",
    "    sleep(0.2)\n",
    "\n",
    "def cook_vegetables(useless):\n",
    "    sleep(0.5)\n",
    "\n",
    "def prepare_salad():\n",
    "    sauce = numpy.random.uniform(size=1000000).mean()\n",
    "    cut_vegetables(sauce)\n",
    "    cook_vegetables(sauce)\n",
    "    return sauce\n"
   ]
  },
  {
   "cell_type": "code",
   "execution_count": null,
   "metadata": {},
   "outputs": [],
   "source": [
    "prepare_salad()"
   ]
  },
  {
   "cell_type": "markdown",
   "metadata": {},
   "source": [
    "## The most basic tool: `timeit`\n",
    "\n",
    "Can be used as line, cell magic, or from the command line. \n",
    "\n",
    "Documentation: \n",
    "1. https://docs.python.org/3/library/timeit.html\n",
    "2. https://ipython.readthedocs.io/en/stable/interactive/magics.html#magic-timeit"
   ]
  },
  {
   "cell_type": "code",
   "execution_count": null,
   "metadata": {},
   "outputs": [],
   "source": [
    "# Line magic, time only one line\n",
    "%timeit prepare_salad()"
   ]
  },
  {
   "cell_type": "code",
   "execution_count": null,
   "metadata": {},
   "outputs": [],
   "source": [
    "%%timeit\n",
    "# Cell magic, time an entire cell\n",
    "secret_sauce = prepare_salad()\n",
    "print('The secret sauce is: ', secret_sauce)"
   ]
  },
  {
   "cell_type": "code",
   "execution_count": null,
   "metadata": {},
   "outputs": [],
   "source": [
    "# with -o store the output in a variable for later use\n",
    "res = %timeit -o secret_sauce = prepare_salad()"
   ]
  },
  {
   "cell_type": "code",
   "execution_count": null,
   "metadata": {},
   "outputs": [],
   "source": [
    "# We have access to stats like average, best, worst, stdev etc \n",
    "print('timings: ', res.timings)\n",
    "print('average: ', res.average)\n",
    "\n",
    "print(dir(res))\n"
   ]
  },
  {
   "cell_type": "markdown",
   "metadata": {},
   "source": [
    "## More detailed: `line_profiler`\n",
    "Shows runtime information for each line of code executed. \n",
    "\n",
    "Documentation: https://github.com/pyutils/line_profiler"
   ]
  },
  {
   "cell_type": "code",
   "execution_count": null,
   "metadata": {},
   "outputs": [],
   "source": [
    "#load the line_profiler code in the current notebook\n",
    "%load_ext line_profiler"
   ]
  },
  {
   "cell_type": "code",
   "execution_count": null,
   "metadata": {},
   "outputs": [],
   "source": [
    "# collect profiling information for selected functions\n",
    "%lprun -f cut_vegetables -f cook_vegetables prepare_salad()"
   ]
  },
  {
   "cell_type": "code",
   "execution_count": null,
   "metadata": {},
   "outputs": [],
   "source": [
    "# store the results in the timings.txt file\n",
    "%lprun -T timings.txt -f prepare_salad prepare_salad()"
   ]
  },
  {
   "cell_type": "code",
   "execution_count": null,
   "metadata": {},
   "outputs": [],
   "source": [
    "%load timings.txt"
   ]
  },
  {
   "cell_type": "markdown",
   "metadata": {},
   "source": [
    "### Use from the command line\n",
    "1. First decorate all functions you want to profile with `@profile`\n",
    "2. Then run with `kernprof -l my_script.py`\n",
    "3. A report named `my_script.py.lprof` will be generated.\n",
    "4. View results with `python -m line_profiler my_script.py.lprof`"
   ]
  },
  {
   "cell_type": "code",
   "execution_count": null,
   "metadata": {},
   "outputs": [],
   "source": [
    "%load ../scripts/01_line_profiler.py"
   ]
  },
  {
   "cell_type": "code",
   "execution_count": null,
   "metadata": {},
   "outputs": [],
   "source": [
    "# Use kernprof command line tool to generate the profiling data\n",
    "!kernprof -l ../scripts/01_line_profiler.py"
   ]
  },
  {
   "cell_type": "code",
   "execution_count": null,
   "metadata": {},
   "outputs": [],
   "source": [
    "# View results\n",
    "!python -m line_profiler 01_line_profiler.py.lprof"
   ]
  },
  {
   "cell_type": "markdown",
   "metadata": {},
   "source": [
    "## The most detailed: cProfile\n",
    "Prints information about all functions that were called. "
   ]
  },
  {
   "cell_type": "code",
   "execution_count": null,
   "metadata": {},
   "outputs": [],
   "source": [
    "import cProfile\n",
    "cProfile.run('prepare_salad()')"
   ]
  },
  {
   "cell_type": "markdown",
   "metadata": {},
   "source": [
    "For our pet example, there should be 17 functions! How many can you recognize?"
   ]
  },
  {
   "cell_type": "code",
   "execution_count": null,
   "metadata": {},
   "outputs": [],
   "source": [
    "%load_ext snakeviz"
   ]
  },
  {
   "cell_type": "code",
   "execution_count": null,
   "metadata": {},
   "outputs": [],
   "source": [
    "%snakeviz -t prepare_salad()"
   ]
  },
  {
   "cell_type": "markdown",
   "metadata": {},
   "source": [
    "## Use cProfiler and snakeviz from the command line\n",
    "cProfiler and snakeviz can be also used from the command line to profile a python script\n",
    "\n",
    "Steps:\n",
    "1. Generate file with profiling info: `python -m cProfile -o my_script.prof my_script.py`\n",
    "2. Visualize with snakeviz: `snakeviz my_script.prof`"
   ]
  },
  {
   "cell_type": "markdown",
   "metadata": {},
   "source": [
    "# Summary\n",
    "* `timeit`: Only reports timing info | Easy to use in a notebook.\n",
    "* `line_profiler`: Provides function and line-by-line timing information | Can be used in a notebook and from the command line. \n",
    "* `cProfile`: Provides function call graph timing information | Can be overwhelming in large project | Supports notebook and command line | Tools to visualize output. "
   ]
  }
 ],
 "metadata": {
  "kernelspec": {
   "display_name": "Python 3",
   "language": "python",
   "name": "python3"
  },
  "language_info": {
   "codemirror_mode": {
    "name": "ipython",
    "version": 3
   },
   "file_extension": ".py",
   "mimetype": "text/x-python",
   "name": "python",
   "nbconvert_exporter": "python",
   "pygments_lexer": "ipython3",
   "version": "3.8.10"
  },
  "vscode": {
   "interpreter": {
    "hash": "79ab8fd01a8cec42884b8b2a5d7fb4751c5402d97e9e61d151ed5c6a6352873c"
   }
  }
 },
 "nbformat": 4,
 "nbformat_minor": 4
}
