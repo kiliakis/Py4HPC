{
 "cells": [
  {
   "cell_type": "markdown",
   "metadata": {},
   "source": [
    "## BLonD core tracking example\n",
    "\n",
    "A more complete example drawn from BLonD. We will profile and optimize the main \n",
    "tracking loop that consists of the kick, drift and profile operations. \n"
   ]
  },
  {
   "cell_type": "code",
   "execution_count": null,
   "metadata": {},
   "outputs": [],
   "source": [
    "# We will need this\n",
    "%load_ext line_profiler"
   ]
  },
  {
   "cell_type": "code",
   "execution_count": null,
   "metadata": {},
   "outputs": [],
   "source": [
    "import math\n",
    "import numpy as np\n",
    "from numba import njit\n",
    "\n",
    "\n",
    "def kick_numpy(dt, dE, voltage, omega, phi, acc_kick):\n",
    "    for j in range(len(voltage)):\n",
    "        dE += voltage[j] * np.sin(omega[j] * dt + phi[j])\n",
    "    dE += acc_kick\n",
    "\n",
    "\n",
    "def drift_numpy(dt, dE, T0, length_ratio, beta, energy, alpha_zero,\n",
    "                alpha_one, alpha_two):\n",
    "\n",
    "    inv_beta_sq = 1. / beta**2\n",
    "    inv_ene_sq = 1. / energy**2\n",
    "    beam_delta = np.sqrt(1. +\n",
    "                         inv_beta_sq * (dE**2 * inv_ene_sq + 2 * dE/energy)) - 1.\n",
    "    dt += T0 * length_ratio * (\n",
    "        (1 + alpha_zero * beam_delta +\n",
    "         alpha_one * (beam_delta**2) +\n",
    "         alpha_two * beam_delta**3) *\n",
    "        (1 + dE/energy) / (1 + beam_delta) - 1)\n",
    "\n",
    "\n",
    "def histo_numpy(dt, profile, cut_left, cut_right):\n",
    "    profile, _ = np.histogram(dt, bins=len(profile),\n",
    "                              range=(cut_left, cut_right))\n",
    "\n"
   ]
  },
  {
   "cell_type": "code",
   "execution_count": null,
   "metadata": {},
   "outputs": [],
   "source": [
    "# Initialize parameters\n",
    "n_particles = 1000000\n",
    "n_slices = 512\n",
    "n_iter = 10\n",
    "\n",
    "dt = np.random.normal(loc=1e-9, scale=1e-10, size=n_particles)\n",
    "dE = np.random.normal(loc=0, scale=1e7, size=n_particles)\n",
    "profile = np.zeros(n_slices, dtype=float)\n",
    "\n",
    "\n",
    "cut_left = 0.9 * dt.min()\n",
    "cut_right = 1.1 * dt.max()\n",
    "voltage = np.array([6e6])\n",
    "omega_rf = np.array([2.5e9])\n",
    "phi_rf = np.array([0.0])\n",
    "acc_kick = 1e4\n",
    "beta = 0.99\n",
    "alpha_zero = 1e-2\n",
    "alpha_one = 1e-3\n",
    "alpha_two = 1e-4\n",
    "energy = 450e9\n",
    "T0 = 9e-5\n",
    "length_ratio = 1.0\n",
    "\n",
    "# The main tracking loop, repeats the kick, drift and histogram steps \n",
    "def loop_numpy(dt, dE, profile, cut_left, cut_right, voltage, omega, phi,\n",
    "               acc_kick, T0, length_ratio, beta, energy,\n",
    "               alpha_zero, alpha_one, alpha_two):\n",
    "\n",
    "    for i in range(n_iter):\n",
    "        kick_numpy(dt, dE, voltage, omega, phi, acc_kick)\n",
    "        drift_numpy(dt, dE, T0, length_ratio, beta, energy, alpha_zero, alpha_one, alpha_two)\n",
    "        profile *= 0.0\n",
    "        histo_numpy(dt, profile, cut_left, cut_right)\n",
    "\n",
    "\n",
    "\n",
    "\n"
   ]
  },
  {
   "cell_type": "code",
   "execution_count": null,
   "metadata": {},
   "outputs": [],
   "source": [
    "%%timeit\n",
    "loop_numpy(dt, dE, profile, cut_left, cut_right,\n",
    "           voltage, omega_rf, phi_rf, acc_kick, T0, length_ratio, beta,\n",
    "           energy, alpha_zero, alpha_one, alpha_two)\n"
   ]
  },
  {
   "cell_type": "code",
   "execution_count": null,
   "metadata": {},
   "outputs": [],
   "source": [
    "%lprun -f loop_numpy loop_numpy(dt, dE, profile, cut_left, cut_right, voltage, omega_rf, phi_rf, acc_kick, T0, length_ratio, beta, energy, alpha_zero, alpha_one, alpha_two)\n"
   ]
  },
  {
   "cell_type": "code",
   "execution_count": null,
   "metadata": {},
   "outputs": [],
   "source": [
    "\n",
    "# We use the nopython mode + automatic parallelization\n",
    "kick_jit = njit(parallel=True)(kick_numpy)\n",
    "drift_jit = njit(parallel=True)(drift_numpy)\n",
    "histo_jit = njit(parallel=True)(histo_numpy)\n",
    "\n",
    "\n",
    "def loop_jit(dt, dE, profile, cut_left, cut_right, voltage, omega, phi,\n",
    "                   acc_kick, T0, length_ratio, beta, energy,\n",
    "                   alpha_zero, alpha_one, alpha_two):\n",
    "    for i in range(n_iter):\n",
    "        kick_jit(dt, dE, voltage, omega, phi, acc_kick)\n",
    "        drift_jit(dt, dE, T0, length_ratio, beta, energy,\n",
    "                        alpha_zero, alpha_one, alpha_two)\n",
    "        profile *= 0.0\n",
    "        histo_jit(dt, profile, cut_left, cut_right)\n"
   ]
  },
  {
   "cell_type": "code",
   "execution_count": null,
   "metadata": {},
   "outputs": [],
   "source": [
    "%%timeit\n",
    "loop_jit(dt, dE, profile, cut_left, cut_right,\n",
    "           voltage, omega_rf, phi_rf, acc_kick, T0, length_ratio, beta,\n",
    "           energy, alpha_zero, alpha_one, alpha_two)\n"
   ]
  },
  {
   "cell_type": "code",
   "execution_count": null,
   "metadata": {},
   "outputs": [],
   "source": [
    "%lprun -f loop_jit loop_jit(dt, dE, profile, cut_left, cut_right, voltage, omega_rf, phi_rf, acc_kick, T0, length_ratio, beta, energy, alpha_zero, alpha_one, alpha_two)\n"
   ]
  },
  {
   "cell_type": "markdown",
   "metadata": {},
   "source": [
    "Kick and drift were largely improved, but histogram can be improved further.\n",
    "\n",
    "Let's give it a try. "
   ]
  },
  {
   "cell_type": "code",
   "execution_count": null,
   "metadata": {},
   "outputs": [],
   "source": [
    "\n",
    "def histo_unrolled(dt, profile, cut_left, cut_right):\n",
    "    inv_bin_width = len(profile) / (cut_right - cut_left)\n",
    "    target_bin = np.floor((dt - cut_left) * inv_bin_width)\n",
    "    for i in range(len(target_bin)):\n",
    "        if target_bin[i] >= 0 and target_bin[i] < len(profile):\n",
    "            profile[int(target_bin[i])] += 1.0\n",
    "\n",
    "\n",
    "histo_jit = njit(parallel=True)(histo_unrolled)\n",
    "\n"
   ]
  },
  {
   "cell_type": "code",
   "execution_count": null,
   "metadata": {},
   "outputs": [],
   "source": [
    "%%timeit\n",
    "loop_jit(dt, dE, profile, cut_left, cut_right,\n",
    "         voltage, omega_rf, phi_rf, acc_kick, T0, length_ratio, beta,\n",
    "         energy, alpha_zero, alpha_one, alpha_two)\n"
   ]
  },
  {
   "cell_type": "code",
   "execution_count": null,
   "metadata": {},
   "outputs": [],
   "source": [
    "%lprun -f loop_jit loop_jit(dt, dE, profile, cut_left, cut_right, voltage, omega_rf, phi_rf, acc_kick, T0, length_ratio, beta, energy, alpha_zero, alpha_one, alpha_two)\n"
   ]
  },
  {
   "cell_type": "markdown",
   "metadata": {},
   "source": [
    "We should stop at some time. The percentages will always add up to 100%!"
   ]
  }
 ],
 "metadata": {
  "kernelspec": {
   "display_name": "Python 3.9.7 ('base')",
   "language": "python",
   "name": "python3"
  },
  "language_info": {
   "codemirror_mode": {
    "name": "ipython",
    "version": 3
   },
   "file_extension": ".py",
   "mimetype": "text/x-python",
   "name": "python",
   "nbconvert_exporter": "python",
   "pygments_lexer": "ipython3",
   "version": "3.9.7"
  },
  "orig_nbformat": 4,
  "vscode": {
   "interpreter": {
    "hash": "79ab8fd01a8cec42884b8b2a5d7fb4751c5402d97e9e61d151ed5c6a6352873c"
   }
  }
 },
 "nbformat": 4,
 "nbformat_minor": 2
}
